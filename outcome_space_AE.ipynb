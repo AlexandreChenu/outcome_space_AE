{
 "cells": [
  {
   "cell_type": "code",
   "execution_count": 1,
   "metadata": {},
   "outputs": [
    {
     "name": "stdout",
     "output_type": "stream",
     "text": [
      "From ['/Users/chenu/opt/anaconda3/envs/huski/lib/python3.6/site-packages/gym']\n",
      "REGISTERING MarbleMazeEnv-v0\n",
      "REGISTERING SimpleEnv-v0\n",
      "REGISTERING SimpleGoalEnv-v0\n",
      "REGISTERING LongSimpleEnv-v0\n",
      "REGISTERING LongSimpleEnvGoal-v0\n",
      "REGISTERING SimpleEnvGoal-v0\n",
      "REGISTERING AdaptiveMazeEnv-v0\n",
      "REGISTERING SampleSimpleMazeEnv-v0\n",
      "REGISTERING SampleSimpleMazeEnvLocal-v0\n",
      "REGISTERING BalisticEnv-v0\n",
      "REGISTERING ArmBallEnv-v0\n",
      "REGISTERING BalisticArmBallEnv-v0\n",
      "REGISTERING FreeEnv-v0\n",
      "REGISTERING MazeEnv2-v0\n",
      "REGISTERING FreeMazeEnv2-v0\n",
      "REGISTERING MazeEnv2GCPHERSB3_clean-v0\n",
      "REGISTERING FreeMazeEnv2GCPHERSB3_clean-v0\n",
      "REGISTERING MazeEnv15-v0\n",
      "REGISTERING MazeEnv5-v0\n",
      "REGISTERING MazeEnv5HER-v0\n",
      "REGISTERING MazeEnv5GCP-v0\n",
      "REGISTERING MazeEnv10-v0\n",
      "REGISTERING DubinsMazeEnv5-v0 / DubinsMazeEnv10-v0 / DubinsMazeEnv5GCPSB3-v0 / DubinsMazeEnv10GCPSB3-v0 / DubinsMazeEnv5GCPHERSB3-v0\n",
      "REGISTERING DubinsMazeEnv10_BP_SB3-v0\n",
      "REGISTERING MazeEnvHAC10-v0\n",
      "REGISTERING MazeEnv10HER-v0\n",
      "REGISTERING MazeEnv10GCP-v0\n",
      "REGISTERING MazeEnv10SB3-v0 / MazeEnv5SB3-v0 / MazeEnv10HERSB3-v0\n",
      "REGISTERING MazeEnv10GCPSB3-v0\n",
      "REGISTERING MazeEnv10GCPSB3-v2\n",
      "REGISTERING MazeEnv10GCPHERSB3-v0\n",
      "REGISTERING MazeEnv5GCPHERSB3-v0\n",
      "REGISTERING MazeEnv10_BP_SB3-v0\n",
      "REGISTERING MazeEnv10_BPCS_SB3-v0\n",
      "REGISTERING PointMazeEnv-v0\n",
      "REGISTERING PointMazeEnvHER-v0\n",
      "REGISTERING PointMazeEnvGCPSB3-v0\n",
      "REGISTERING AntMazeEnv-v0\n",
      "REGISTERING AntMazeEnvNOWS-v0\n",
      "REGISTERING AntMazeEnvGCP-v0\n",
      "REGISTERING AntMazeEnvHER-v0\n",
      "REGISTERING HumanoidEnvNOWS-v0\n",
      "REGISTERING FetchEnv-v0 & FetchEnvGCPHERSB3_clean-v0\n"
     ]
    }
   ],
   "source": [
    "#!/usr/bin python -w\n",
    "\n",
    "import datetime\n",
    "import os\n",
    "from os import path\n",
    "import array\n",
    "import time\n",
    "import random\n",
    "import pickle\n",
    "import copy\n",
    "import argparse\n",
    "\n",
    "from datetime import datetime\n",
    "\n",
    "import matplotlib.pyplot as plt\n",
    "import matplotlib.cm as cm\n",
    "from matplotlib import collections as mc\n",
    "from mpl_toolkits.mplot3d import Axes3D\n",
    "\n",
    "import gym, gym_marblemaze\n",
    "import pandas as pd\n",
    "import numpy as np\n",
    "\n",
    "import torch\n",
    "import torch.nn as nn\n",
    "import torch.nn.functional as F\n",
    "from torch.autograd import Variable\n",
    "import torch.utils.data as Data\n",
    "\n",
    "torch.set_default_tensor_type('torch.FloatTensor')"
   ]
  },
  {
   "cell_type": "code",
   "execution_count": 3,
   "metadata": {},
   "outputs": [
    {
     "name": "stdout",
     "output_type": "stream",
     "text": [
      "MAZE setting random seed  0\n",
      "MazeEnv.state =  [0.5 0.5]\n"
     ]
    }
   ],
   "source": [
    "env = gym.make(\"MazeEnv5SB3-v0\")"
   ]
  },
  {
   "cell_type": "code",
   "execution_count": 11,
   "metadata": {},
   "outputs": [
    {
     "data": {
      "image/png": "[encoded data removed]",
      "text/plain": [
       "<Figure size 432x288 with 1 Axes>"
      ]
     },
     "metadata": {
      "needs_background": "light"
     },
     "output_type": "display_data"
    }
   ],
   "source": [
    "fig, ax = plt.subplots()\n",
    "ax.set_xlim(-0.1, 5.1)\n",
    "ax.set_ylim(-0.1, 5.1)\n",
    "env.draw(ax)\n",
    "plt.show()"
   ]
  },
  {
   "cell_type": "code",
   "execution_count": 8,
   "metadata": {},
   "outputs": [],
   "source": []
  },
  {
   "cell_type": "code",
   "execution_count": null,
   "metadata": {},
   "outputs": [],
   "source": []
  }
 ],
 "metadata": {
  "kernelspec": {
   "display_name": "Python 3",
   "language": "python",
   "name": "python3"
  },
  "language_info": {
   "codemirror_mode": {
    "name": "ipython",
    "version": 3
   },
   "file_extension": ".py",
   "mimetype": "text/x-python",
   "name": "python",
   "nbconvert_exporter": "python",
   "pygments_lexer": "ipython3",
   "version": "3.6.10"
  }
 },
 "nbformat": 4,
 "nbformat_minor": 4
}
